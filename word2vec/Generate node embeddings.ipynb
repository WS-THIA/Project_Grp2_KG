{
 "cells": [
  {
   "cell_type": "code",
   "execution_count": 1,
   "metadata": {},
   "outputs": [],
   "source": [
    "import pandas as pd\n",
    "import matplotlib.pyplot as plt\n",
    "import networkx as nx\n",
    "import random\n",
    "import pickle\n",
    "import numpy as np\n",
    "from gensim.models import Word2Vec"
   ]
  },
  {
   "cell_type": "markdown",
   "metadata": {},
   "source": [
    "# Import data"
   ]
  },
  {
   "cell_type": "code",
   "execution_count": 2,
   "metadata": {},
   "outputs": [],
   "source": [
    "data = pd.read_csv(\"restaurant-food.csv\")"
   ]
  },
  {
   "cell_type": "code",
   "execution_count": 3,
   "metadata": {},
   "outputs": [
    {
     "data": {
      "text/html": [
       "<div>\n",
       "<style scoped>\n",
       "    .dataframe tbody tr th:only-of-type {\n",
       "        vertical-align: middle;\n",
       "    }\n",
       "\n",
       "    .dataframe tbody tr th {\n",
       "        vertical-align: top;\n",
       "    }\n",
       "\n",
       "    .dataframe thead th {\n",
       "        text-align: right;\n",
       "    }\n",
       "</style>\n",
       "<table border=\"1\" class=\"dataframe\">\n",
       "  <thead>\n",
       "    <tr style=\"text-align: right;\">\n",
       "      <th></th>\n",
       "      <th>Restaurant</th>\n",
       "      <th>Food</th>\n",
       "      <th>Counts</th>\n",
       "    </tr>\n",
       "  </thead>\n",
       "  <tbody>\n",
       "    <tr>\n",
       "      <td>0</td>\n",
       "      <td>/babasan-by-uncle-kiisu</td>\n",
       "      <td>beer,fruit</td>\n",
       "      <td>4</td>\n",
       "    </tr>\n",
       "    <tr>\n",
       "      <td>1</td>\n",
       "      <td>/babasan-by-uncle-kiisu</td>\n",
       "      <td>rice</td>\n",
       "      <td>4</td>\n",
       "    </tr>\n",
       "    <tr>\n",
       "      <td>2</td>\n",
       "      <td>/babasan-by-uncle-kiisu</td>\n",
       "      <td>crispy pork,mee siam,pork,pork belly</td>\n",
       "      <td>4</td>\n",
       "    </tr>\n",
       "    <tr>\n",
       "      <td>3</td>\n",
       "      <td>/babasan-by-uncle-kiisu</td>\n",
       "      <td>fish,fish roe,rice,roe,seafood,unagi</td>\n",
       "      <td>4</td>\n",
       "    </tr>\n",
       "    <tr>\n",
       "      <td>4</td>\n",
       "      <td>/yobo</td>\n",
       "      <td>brown rice,cream,pumpkin,rice,salad</td>\n",
       "      <td>4</td>\n",
       "    </tr>\n",
       "    <tr>\n",
       "      <td>5</td>\n",
       "      <td>/yobo</td>\n",
       "      <td>aglio olio,brussel sprout,fusilli,mushroom,nut...</td>\n",
       "      <td>4</td>\n",
       "    </tr>\n",
       "    <tr>\n",
       "      <td>6</td>\n",
       "      <td>/yobo</td>\n",
       "      <td>brown rice,chicken,cream,kale chip,rice</td>\n",
       "      <td>4</td>\n",
       "    </tr>\n",
       "    <tr>\n",
       "      <td>7</td>\n",
       "      <td>/yobo</td>\n",
       "      <td>chicken,cream,kale chip,pumpkin,soy,soy chicken</td>\n",
       "      <td>4</td>\n",
       "    </tr>\n",
       "    <tr>\n",
       "      <td>8</td>\n",
       "      <td>/enjoy-eating-house-and-bar</td>\n",
       "      <td>cream,fish,fruit,meat,nut,otah,prawn,rice,seaf...</td>\n",
       "      <td>90</td>\n",
       "    </tr>\n",
       "    <tr>\n",
       "      <td>9</td>\n",
       "      <td>/enjoy-eating-house-and-bar</td>\n",
       "      <td>broth,earl,mushroom,vermicelli</td>\n",
       "      <td>90</td>\n",
       "    </tr>\n",
       "  </tbody>\n",
       "</table>\n",
       "</div>"
      ],
      "text/plain": [
       "                    Restaurant  \\\n",
       "0      /babasan-by-uncle-kiisu   \n",
       "1      /babasan-by-uncle-kiisu   \n",
       "2      /babasan-by-uncle-kiisu   \n",
       "3      /babasan-by-uncle-kiisu   \n",
       "4                        /yobo   \n",
       "5                        /yobo   \n",
       "6                        /yobo   \n",
       "7                        /yobo   \n",
       "8  /enjoy-eating-house-and-bar   \n",
       "9  /enjoy-eating-house-and-bar   \n",
       "\n",
       "                                                Food  Counts  \n",
       "0                                         beer,fruit       4  \n",
       "1                                               rice       4  \n",
       "2               crispy pork,mee siam,pork,pork belly       4  \n",
       "3               fish,fish roe,rice,roe,seafood,unagi       4  \n",
       "4                brown rice,cream,pumpkin,rice,salad       4  \n",
       "5  aglio olio,brussel sprout,fusilli,mushroom,nut...       4  \n",
       "6            brown rice,chicken,cream,kale chip,rice       4  \n",
       "7    chicken,cream,kale chip,pumpkin,soy,soy chicken       4  \n",
       "8  cream,fish,fruit,meat,nut,otah,prawn,rice,seaf...      90  \n",
       "9                     broth,earl,mushroom,vermicelli      90  "
      ]
     },
     "execution_count": 3,
     "metadata": {},
     "output_type": "execute_result"
    }
   ],
   "source": [
    "counts = pd.DataFrame(data['Restaurant'].value_counts())\n",
    "counts.reset_index(inplace=True)\n",
    "\n",
    "data = data.merge(counts, left_on='Restaurant', right_on='index')\n",
    "data.drop(['index'], axis=1, inplace=True)\n",
    "data.columns = ['Restaurant', 'Food','Counts']\n",
    "data.head(10)"
   ]
  },
  {
   "cell_type": "markdown",
   "metadata": {},
   "source": [
    "# Data Cleaning"
   ]
  },
  {
   "cell_type": "code",
   "execution_count": 4,
   "metadata": {},
   "outputs": [
    {
     "data": {
      "text/plain": [
       "(33823, 3)"
      ]
     },
     "execution_count": 4,
     "metadata": {},
     "output_type": "execute_result"
    }
   ],
   "source": [
    "# Take in restaurants with more than 10 reviews. Need a min number of reviews.\n",
    "data = data[(data['Counts']>10)]\n",
    "data.shape"
   ]
  },
  {
   "cell_type": "code",
   "execution_count": 5,
   "metadata": {},
   "outputs": [
    {
     "data": {
      "image/png": "[encoded data removed]",
      "text/plain": [
       "<Figure size 432x288 with 1 Axes>"
      ]
     },
     "metadata": {
      "needs_background": "light"
     },
     "output_type": "display_data"
    }
   ],
   "source": [
    "# See distribution of reviews \n",
    "D = data['Restaurant'].value_counts()\n",
    "plt.hist(D, bins=50)\n",
    "plt.show()"
   ]
  },
  {
   "cell_type": "code",
   "execution_count": 6,
   "metadata": {},
   "outputs": [
    {
     "data": {
      "text/html": [
       "<div>\n",
       "<style scoped>\n",
       "    .dataframe tbody tr th:only-of-type {\n",
       "        vertical-align: middle;\n",
       "    }\n",
       "\n",
       "    .dataframe tbody tr th {\n",
       "        vertical-align: top;\n",
       "    }\n",
       "\n",
       "    .dataframe thead th {\n",
       "        text-align: right;\n",
       "    }\n",
       "</style>\n",
       "<table border=\"1\" class=\"dataframe\">\n",
       "  <thead>\n",
       "    <tr style=\"text-align: right;\">\n",
       "      <th></th>\n",
       "      <th>Restaurant</th>\n",
       "      <th>Food</th>\n",
       "      <th>Counts</th>\n",
       "    </tr>\n",
       "  </thead>\n",
       "  <tbody>\n",
       "    <tr>\n",
       "      <td>8</td>\n",
       "      <td>enjoy-eating-house-and-bar</td>\n",
       "      <td>cream,fish,fruit,meat,nut,otah,prawn,rice,seaf...</td>\n",
       "      <td>90</td>\n",
       "    </tr>\n",
       "    <tr>\n",
       "      <td>9</td>\n",
       "      <td>enjoy-eating-house-and-bar</td>\n",
       "      <td>broth,earl,mushroom,vermicelli</td>\n",
       "      <td>90</td>\n",
       "    </tr>\n",
       "    <tr>\n",
       "      <td>10</td>\n",
       "      <td>enjoy-eating-house-and-bar</td>\n",
       "      <td>crab,crab meat,egg,fish,fish soup,meat,pork,po...</td>\n",
       "      <td>90</td>\n",
       "    </tr>\n",
       "    <tr>\n",
       "      <td>11</td>\n",
       "      <td>enjoy-eating-house-and-bar</td>\n",
       "      <td>egg,hor fun,mushroom,noodle,pork,prawn,rice,ta...</td>\n",
       "      <td>90</td>\n",
       "    </tr>\n",
       "    <tr>\n",
       "      <td>12</td>\n",
       "      <td>enjoy-eating-house-and-bar</td>\n",
       "      <td>chilli,chilli crab,crab,crab sauce,egg,prawn,t...</td>\n",
       "      <td>90</td>\n",
       "    </tr>\n",
       "  </tbody>\n",
       "</table>\n",
       "</div>"
      ],
      "text/plain": [
       "                    Restaurant  \\\n",
       "8   enjoy-eating-house-and-bar   \n",
       "9   enjoy-eating-house-and-bar   \n",
       "10  enjoy-eating-house-and-bar   \n",
       "11  enjoy-eating-house-and-bar   \n",
       "12  enjoy-eating-house-and-bar   \n",
       "\n",
       "                                                 Food  Counts  \n",
       "8   cream,fish,fruit,meat,nut,otah,prawn,rice,seaf...      90  \n",
       "9                      broth,earl,mushroom,vermicelli      90  \n",
       "10  crab,crab meat,egg,fish,fish soup,meat,pork,po...      90  \n",
       "11  egg,hor fun,mushroom,noodle,pork,prawn,rice,ta...      90  \n",
       "12  chilli,chilli crab,crab,crab sauce,egg,prawn,t...      90  "
      ]
     },
     "execution_count": 6,
     "metadata": {},
     "output_type": "execute_result"
    }
   ],
   "source": [
    "# Text cleaning\n",
    "data['Restaurant'] = data['Restaurant'].apply(lambda x: x.lstrip(\"/\"))\n",
    "data.head()"
   ]
  },
  {
   "cell_type": "code",
   "execution_count": 7,
   "metadata": {},
   "outputs": [],
   "source": [
    "# Get mapping dict to map synonyms to a single term (e.g. tze char --> zi char). \n",
    "# Local food especially, have > 1 way of being spelled\n",
    "mapping = pd.read_excel('mapping.xlsx')\n",
    "mapping.columns=[\"X\",\"Y\"]\n",
    "map_dict = {}\n",
    "for i in range(mapping.shape[0]):\n",
    "    x = mapping.iloc[i,0]\n",
    "    y = mapping.iloc[i,1]\n",
    "    map_dict[x] = y"
   ]
  },
  {
   "cell_type": "code",
   "execution_count": 8,
   "metadata": {},
   "outputs": [],
   "source": [
    "# Init the restaurant dict \"compiled\"\n",
    "# \"Compiled\" is a dict of {'RESTAURANT_NAME': [list, of, food, served]}\n",
    "\n",
    "compiled = {R: list([]) for R in data['Restaurant'].unique()}\n",
    "\n",
    "for i in range(data.shape[0]):\n",
    "    restaurant = data.iloc[i,0]\n",
    "    food = data.iloc[i,1]\n",
    "    food = food.split(',')\n",
    "    \n",
    "    compiled[restaurant].extend(food)"
   ]
  },
  {
   "cell_type": "code",
   "execution_count": 9,
   "metadata": {},
   "outputs": [],
   "source": [
    "# Use the above mapping to Standardize terms (apply the \"map_dict\" to \"compiled\")\n",
    "for k, v in compiled.items():\n",
    "    for i,food in enumerate(v):\n",
    "        if food in map_dict.keys():\n",
    "            compiled[k][i]= map_dict[food]"
   ]
  },
  {
   "cell_type": "code",
   "execution_count": 10,
   "metadata": {},
   "outputs": [],
   "source": [
    "# Remove subsets (\"beef, wagyu beef\" --> \"wagyu beef\") and Remove foods that appear too frequently\n",
    "stoplist = \"soysauce egg yam friedchicken aldente porkbelly earlgrey seafood berries sandwich spinach scallop pancake chocolate yoghurt jelly shake tomato potato meat pasta bacon tart apple beans turkey beef vegetable cake salad beer berry caffeine pho cucumber steak fruit date chestnut bread broth rice bun burger butter carrot cheese chicken chilli sauce clam cocoa coffee cookie corn crab cream curry custard dessert drink duck egg fish fries herbs lamb lard lemon lettuce milk mutton mushroom nut noodle papaya pie pineapple pork prawn raisin pumpkin ribs rice roe soy stew strawberry tea tuna truffle vinegar wing wine banana\".split()\n",
    "\n",
    "for k, v in compiled.items():\n",
    "    for i, food_1 in enumerate(v):\n",
    "        for j, food_2 in enumerate(v):\n",
    "            a = food_1\n",
    "            b = food_2\n",
    "            if a == b:\n",
    "                continue\n",
    "            elif set(a).issubset(set(b)):\n",
    "                compiled[k][i]=''\n",
    "            if a in stoplist:\n",
    "                compiled[k][i]=''\n",
    "    compiled[k] = list(set(compiled[k]))\n",
    "    \n",
    "    if '' in compiled[k]:\n",
    "        compiled[k].remove('')"
   ]
  },
  {
   "cell_type": "markdown",
   "metadata": {},
   "source": [
    "# Create Graph"
   ]
  },
  {
   "cell_type": "markdown",
   "metadata": {},
   "source": [
    "We create a bi-partite graph consisting of [Restaurant]--serves-->[Food]"
   ]
  },
  {
   "cell_type": "code",
   "execution_count": 11,
   "metadata": {},
   "outputs": [],
   "source": [
    "# Make graph\n",
    "G=nx.Graph()\n",
    "\n",
    "for k, v in compiled.items():\n",
    "    G.add_node(k, attribute = 'restaurant')\n",
    "    for food in v:\n",
    "        G.add_node(food, attribute = 'food')\n",
    "        G.add_edge(k,food,relation = 'serves')"
   ]
  },
  {
   "cell_type": "markdown",
   "metadata": {},
   "source": [
    "We create a corpus of \"sentences\" that comprise random walks through the graph."
   ]
  },
  {
   "cell_type": "code",
   "execution_count": 12,
   "metadata": {},
   "outputs": [],
   "source": [
    "# Make the string\n",
    "def getString(node, depth):\n",
    "    \n",
    "    if depth == 0:\n",
    "        return  node\n",
    "    \n",
    "    neighbours = list(G.neighbors(node))\n",
    "    \n",
    "    next_node = random.choice(neighbours)\n",
    "    \n",
    "    return node + ',' + getString(next_node, depth-1) \n",
    "\n",
    "# Make the corpus\n",
    "def getCorpus(graph, depth, repeat):\n",
    "    \n",
    "    corpus = []\n",
    "    \n",
    "    # For each node\n",
    "    for node in graph.nodes:\n",
    "        \n",
    "        # repeat\n",
    "        for i in range(repeat):\n",
    "            \n",
    "            instance = getString(node, depth).split(',')\n",
    "            \n",
    "            corpus.append(instance)\n",
    "            \n",
    "    return corpus\n",
    "\n",
    "# Create text corpus\n",
    "# depth = length of each sentence\n",
    "# repeat = number of sentences generated starting from each restaurant node\n",
    "text = getCorpus(graph=G, depth=50, repeat=500)"
   ]
  },
  {
   "cell_type": "markdown",
   "metadata": {},
   "source": [
    "# Train the model"
   ]
  },
  {
   "cell_type": "code",
   "execution_count": 19,
   "metadata": {},
   "outputs": [],
   "source": [
    "# Train model\n",
    "dim = 50\n",
    "model = Word2Vec(text, size=dim, window=1, min_count=20, sg=1)"
   ]
  },
  {
   "cell_type": "markdown",
   "metadata": {},
   "source": [
    "# Extract the \"restaurant\" embeddings"
   ]
  },
  {
   "cell_type": "code",
   "execution_count": 20,
   "metadata": {},
   "outputs": [
    {
     "name": "stderr",
     "output_type": "stream",
     "text": [
      "C:\\Users\\kevin\\Anaconda3\\lib\\site-packages\\ipykernel_launcher.py:8: DeprecationWarning: Call to deprecated `__getitem__` (Method will be removed in 4.0.0, use self.wv.__getitem__() instead).\n",
      "  \n"
     ]
    }
   ],
   "source": [
    "# Get restaurant vectors\n",
    "restaurant_list = list(data['Restaurant'].unique())\n",
    "\n",
    "restaurant_arr = np.ones((len(restaurant_list), dim))\n",
    "\n",
    "for i, restaurant in enumerate(restaurant_list):\n",
    "    \n",
    "    restaurant_arr[i] = model[restaurant]\n"
   ]
  },
  {
   "cell_type": "markdown",
   "metadata": {},
   "source": [
    "# Create labels"
   ]
  },
  {
   "cell_type": "markdown",
   "metadata": {},
   "source": [
    "Here, we generate a table containing the restaurant names, and the food that people commented on. We use this table to manually generate cuisine labels using the exported excel file."
   ]
  },
  {
   "cell_type": "code",
   "execution_count": 21,
   "metadata": {},
   "outputs": [],
   "source": [
    "# Create lables\n",
    "\n",
    "output = []\n",
    "\n",
    "for R in restaurant_list:\n",
    "    \n",
    "    temp = [R, compiled[R]]\n",
    "    output.append(temp)\n",
    "    \n",
    "output = pd.DataFrame(output)\n",
    "\n",
    "# Export the file to be manually labeled\n",
    "# output.to_excel('for_labelling.xlsx')"
   ]
  },
  {
   "cell_type": "markdown",
   "metadata": {},
   "source": [
    "After manually labelling the restaurants, we import the excel file in again, and use it to train our classifier."
   ]
  },
  {
   "cell_type": "code",
   "execution_count": 22,
   "metadata": {},
   "outputs": [],
   "source": [
    "labels = pd.read_excel('labels.xlsx')\n",
    "\n",
    "labels.drop([1], axis=1, inplace=True)\n",
    "\n",
    "labels = labels['Label'].tolist()"
   ]
  },
  {
   "cell_type": "markdown",
   "metadata": {},
   "source": [
    "# Create table"
   ]
  },
  {
   "cell_type": "code",
   "execution_count": 23,
   "metadata": {},
   "outputs": [
    {
     "data": {
      "text/plain": [
       "(697, 52)"
      ]
     },
     "execution_count": 23,
     "metadata": {},
     "output_type": "execute_result"
    }
   ],
   "source": [
    "data = pd.DataFrame(restaurant_arr)\n",
    "data['Label'] = labels\n",
    "data['Restaurant'] = restaurant_list\n",
    "data.shape"
   ]
  },
  {
   "cell_type": "markdown",
   "metadata": {},
   "source": [
    "Total of 697 restaurants and 52 columns (50 embedding cols, 1 restaurant name, 1 label column)"
   ]
  },
  {
   "cell_type": "code",
   "execution_count": 24,
   "metadata": {},
   "outputs": [],
   "source": [
    "with open(\"node_data.pkl\",'wb') as f:\n",
    "    pickle.dump(data, f)"
   ]
  },
  {
   "cell_type": "code",
   "execution_count": null,
   "metadata": {},
   "outputs": [],
   "source": []
  },
  {
   "cell_type": "code",
   "execution_count": 26,
   "metadata": {},
   "outputs": [
    {
     "data": {
      "text/plain": [
       "['enjoy-eating-house-and-bar',\n",
       " 'chendol',\n",
       " 'basil-thai-kitchen-1',\n",
       " 'soft shell crab',\n",
       " 'spize-at-temasek-club-rifle-range-road',\n",
       " 'basil leave',\n",
       " 'enjoy-eating-house-and-bar',\n",
       " 'yam paste',\n",
       " 'chinatown-complex-market-food-centre',\n",
       " 'black bean',\n",
       " 'vatos-urban-tacos-2',\n",
       " 'craft beer',\n",
       " 'the-coconut-club',\n",
       " 'craft beer',\n",
       " 'cottontail-creamery',\n",
       " 'scrambled egg',\n",
       " 'the-butchers-wife',\n",
       " 'asparagus',\n",
       " 'pizzaexpress-singapore',\n",
       " 'basil',\n",
       " 'clinton-street-baking-company-singapore',\n",
       " 'flat white',\n",
       " 'gridscircles',\n",
       " 'thick toast',\n",
       " 'dutch-colony-coffee-co-1',\n",
       " 'wrap',\n",
       " 'ji-xiangang-ku-kueh',\n",
       " 'orh nee',\n",
       " 'enjoy-eating-house-and-bar',\n",
       " 'fish soup',\n",
       " 'chinatown-complex-market-food-centre',\n",
       " 'vermicelli',\n",
       " 'wok-master',\n",
       " 'red bean',\n",
       " 'bedok-85-market',\n",
       " 'tze char',\n",
       " 'wee-nam-kee-hainanese-chicken-rice-restaurant',\n",
       " 'water chestnut',\n",
       " 'beach-road-scissor-cut-curry-rice',\n",
       " 'chilli sauce',\n",
       " 'fook-kin',\n",
       " 'wanton mee',\n",
       " 'fei-fei-wanton-mee',\n",
       " 'wanton mee',\n",
       " 'dumpling-darlings',\n",
       " 'gyoza',\n",
       " 'ikura-japanese',\n",
       " 'ikura',\n",
       " 'koh-grill-sushi-bar',\n",
       " 'mentaiko',\n",
       " 'little-creatures']"
      ]
     },
     "execution_count": 26,
     "metadata": {},
     "output_type": "execute_result"
    }
   ],
   "source": [
    "text[3]"
   ]
  },
  {
   "cell_type": "code",
   "execution_count": null,
   "metadata": {},
   "outputs": [],
   "source": []
  }
 ],
 "metadata": {
  "kernelspec": {
   "display_name": "Python 3",
   "language": "python",
   "name": "python3"
  },
  "language_info": {
   "codemirror_mode": {
    "name": "ipython",
    "version": 3
   },
   "file_extension": ".py",
   "mimetype": "text/x-python",
   "name": "python",
   "nbconvert_exporter": "python",
   "pygments_lexer": "ipython3",
   "version": "3.7.4"
  },
  "toc": {
   "base_numbering": 1,
   "nav_menu": {},
   "number_sections": true,
   "sideBar": true,
   "skip_h1_title": false,
   "title_cell": "Table of Contents",
   "title_sidebar": "Contents",
   "toc_cell": false,
   "toc_position": {},
   "toc_section_display": true,
   "toc_window_display": false
  },
  "varInspector": {
   "cols": {
    "lenName": 16,
    "lenType": 16,
    "lenVar": 40
   },
   "kernels_config": {
    "python": {
     "delete_cmd_postfix": "",
     "delete_cmd_prefix": "del ",
     "library": "var_list.py",
     "varRefreshCmd": "print(var_dic_list())"
    },
    "r": {
     "delete_cmd_postfix": ") ",
     "delete_cmd_prefix": "rm(",
     "library": "var_list.r",
     "varRefreshCmd": "cat(var_dic_list()) "
    }
   },
   "types_to_exclude": [
    "module",
    "function",
    "builtin_function_or_method",
    "instance",
    "_Feature"
   ],
   "window_display": false
  }
 },
 "nbformat": 4,
 "nbformat_minor": 4
}
