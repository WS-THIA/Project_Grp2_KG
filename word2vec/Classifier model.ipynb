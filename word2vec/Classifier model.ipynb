{
 "cells": [
  {
   "cell_type": "code",
   "execution_count": 1,
   "metadata": {},
   "outputs": [],
   "source": [
    "import pickle\n",
    "import pandas as pd\n",
    "from sklearn.decomposition import PCA\n",
    "from sklearn.manifold import TSNE\n",
    "from sklearn.model_selection import train_test_split\n",
    "from sklearn.naive_bayes import GaussianNB\n",
    "import seaborn as sns\n",
    "import numpy as np\n",
    "from sklearn.metrics import classification_report\n",
    "import matplotlib.pyplot as plt"
   ]
  },
  {
   "cell_type": "markdown",
   "metadata": {},
   "source": [
    "# Import the table"
   ]
  },
  {
   "cell_type": "code",
   "execution_count": 2,
   "metadata": {},
   "outputs": [],
   "source": [
    "with open('node_data.pkl','rb') as f:\n",
    "    data = pickle.load(f)"
   ]
  },
  {
   "cell_type": "code",
   "execution_count": 3,
   "metadata": {},
   "outputs": [
    {
     "data": {
      "text/html": [
       "<div>\n",
       "<style scoped>\n",
       "    .dataframe tbody tr th:only-of-type {\n",
       "        vertical-align: middle;\n",
       "    }\n",
       "\n",
       "    .dataframe tbody tr th {\n",
       "        vertical-align: top;\n",
       "    }\n",
       "\n",
       "    .dataframe thead th {\n",
       "        text-align: right;\n",
       "    }\n",
       "</style>\n",
       "<table border=\"1\" class=\"dataframe\">\n",
       "  <thead>\n",
       "    <tr style=\"text-align: right;\">\n",
       "      <th></th>\n",
       "      <th>0</th>\n",
       "      <th>1</th>\n",
       "      <th>2</th>\n",
       "      <th>3</th>\n",
       "      <th>4</th>\n",
       "      <th>5</th>\n",
       "      <th>6</th>\n",
       "      <th>7</th>\n",
       "      <th>8</th>\n",
       "      <th>9</th>\n",
       "      <th>...</th>\n",
       "      <th>42</th>\n",
       "      <th>43</th>\n",
       "      <th>44</th>\n",
       "      <th>45</th>\n",
       "      <th>46</th>\n",
       "      <th>47</th>\n",
       "      <th>48</th>\n",
       "      <th>49</th>\n",
       "      <th>Label</th>\n",
       "      <th>Restaurant</th>\n",
       "    </tr>\n",
       "  </thead>\n",
       "  <tbody>\n",
       "    <tr>\n",
       "      <td>0</td>\n",
       "      <td>1.415893</td>\n",
       "      <td>0.259745</td>\n",
       "      <td>-0.048055</td>\n",
       "      <td>-1.346963</td>\n",
       "      <td>-0.013914</td>\n",
       "      <td>-1.586083</td>\n",
       "      <td>-1.239873</td>\n",
       "      <td>-0.309444</td>\n",
       "      <td>1.464082</td>\n",
       "      <td>0.644394</td>\n",
       "      <td>...</td>\n",
       "      <td>-2.967759</td>\n",
       "      <td>-0.693519</td>\n",
       "      <td>0.420585</td>\n",
       "      <td>0.429933</td>\n",
       "      <td>-0.522547</td>\n",
       "      <td>-1.770239</td>\n",
       "      <td>0.874375</td>\n",
       "      <td>-1.065355</td>\n",
       "      <td>local</td>\n",
       "      <td>enjoy-eating-house-and-bar</td>\n",
       "    </tr>\n",
       "    <tr>\n",
       "      <td>1</td>\n",
       "      <td>0.858691</td>\n",
       "      <td>0.202171</td>\n",
       "      <td>-1.422381</td>\n",
       "      <td>-2.101661</td>\n",
       "      <td>-0.350286</td>\n",
       "      <td>-0.295589</td>\n",
       "      <td>-0.966746</td>\n",
       "      <td>0.022582</td>\n",
       "      <td>0.143381</td>\n",
       "      <td>-0.909143</td>\n",
       "      <td>...</td>\n",
       "      <td>-1.384936</td>\n",
       "      <td>-1.319240</td>\n",
       "      <td>-0.158383</td>\n",
       "      <td>-0.232669</td>\n",
       "      <td>0.387525</td>\n",
       "      <td>0.901896</td>\n",
       "      <td>0.030904</td>\n",
       "      <td>0.080464</td>\n",
       "      <td>western-local</td>\n",
       "      <td>elemen</td>\n",
       "    </tr>\n",
       "    <tr>\n",
       "      <td>2</td>\n",
       "      <td>-0.291935</td>\n",
       "      <td>0.188327</td>\n",
       "      <td>-0.001007</td>\n",
       "      <td>-1.528010</td>\n",
       "      <td>-0.540276</td>\n",
       "      <td>0.365864</td>\n",
       "      <td>-2.001289</td>\n",
       "      <td>-1.037824</td>\n",
       "      <td>0.014204</td>\n",
       "      <td>0.598610</td>\n",
       "      <td>...</td>\n",
       "      <td>-0.178027</td>\n",
       "      <td>0.321222</td>\n",
       "      <td>0.940976</td>\n",
       "      <td>-0.976259</td>\n",
       "      <td>0.746156</td>\n",
       "      <td>-0.137180</td>\n",
       "      <td>0.454292</td>\n",
       "      <td>0.599178</td>\n",
       "      <td>western-local</td>\n",
       "      <td>breko-cafe-holland-village</td>\n",
       "    </tr>\n",
       "    <tr>\n",
       "      <td>3</td>\n",
       "      <td>1.773133</td>\n",
       "      <td>0.929864</td>\n",
       "      <td>-0.446564</td>\n",
       "      <td>-0.201175</td>\n",
       "      <td>0.957477</td>\n",
       "      <td>-0.625841</td>\n",
       "      <td>-0.425833</td>\n",
       "      <td>0.391868</td>\n",
       "      <td>0.238521</td>\n",
       "      <td>-0.342247</td>\n",
       "      <td>...</td>\n",
       "      <td>0.028649</td>\n",
       "      <td>0.387085</td>\n",
       "      <td>0.201941</td>\n",
       "      <td>0.504061</td>\n",
       "      <td>-0.129276</td>\n",
       "      <td>-0.914655</td>\n",
       "      <td>0.610758</td>\n",
       "      <td>-1.035000</td>\n",
       "      <td>local</td>\n",
       "      <td>thesaltedplumsg</td>\n",
       "    </tr>\n",
       "    <tr>\n",
       "      <td>4</td>\n",
       "      <td>1.063667</td>\n",
       "      <td>-1.232356</td>\n",
       "      <td>1.224856</td>\n",
       "      <td>-1.938827</td>\n",
       "      <td>0.242856</td>\n",
       "      <td>0.339426</td>\n",
       "      <td>1.588809</td>\n",
       "      <td>0.256258</td>\n",
       "      <td>-1.552113</td>\n",
       "      <td>0.291350</td>\n",
       "      <td>...</td>\n",
       "      <td>0.017367</td>\n",
       "      <td>-2.201938</td>\n",
       "      <td>0.943608</td>\n",
       "      <td>0.628776</td>\n",
       "      <td>1.730433</td>\n",
       "      <td>-1.259296</td>\n",
       "      <td>0.897154</td>\n",
       "      <td>-1.836153</td>\n",
       "      <td>western-local</td>\n",
       "      <td>four-seasons-durians-restaurant</td>\n",
       "    </tr>\n",
       "  </tbody>\n",
       "</table>\n",
       "<p>5 rows × 52 columns</p>\n",
       "</div>"
      ],
      "text/plain": [
       "          0         1         2         3         4         5         6  \\\n",
       "0  1.415893  0.259745 -0.048055 -1.346963 -0.013914 -1.586083 -1.239873   \n",
       "1  0.858691  0.202171 -1.422381 -2.101661 -0.350286 -0.295589 -0.966746   \n",
       "2 -0.291935  0.188327 -0.001007 -1.528010 -0.540276  0.365864 -2.001289   \n",
       "3  1.773133  0.929864 -0.446564 -0.201175  0.957477 -0.625841 -0.425833   \n",
       "4  1.063667 -1.232356  1.224856 -1.938827  0.242856  0.339426  1.588809   \n",
       "\n",
       "          7         8         9  ...        42        43        44        45  \\\n",
       "0 -0.309444  1.464082  0.644394  ... -2.967759 -0.693519  0.420585  0.429933   \n",
       "1  0.022582  0.143381 -0.909143  ... -1.384936 -1.319240 -0.158383 -0.232669   \n",
       "2 -1.037824  0.014204  0.598610  ... -0.178027  0.321222  0.940976 -0.976259   \n",
       "3  0.391868  0.238521 -0.342247  ...  0.028649  0.387085  0.201941  0.504061   \n",
       "4  0.256258 -1.552113  0.291350  ...  0.017367 -2.201938  0.943608  0.628776   \n",
       "\n",
       "         46        47        48        49          Label  \\\n",
       "0 -0.522547 -1.770239  0.874375 -1.065355          local   \n",
       "1  0.387525  0.901896  0.030904  0.080464  western-local   \n",
       "2  0.746156 -0.137180  0.454292  0.599178  western-local   \n",
       "3 -0.129276 -0.914655  0.610758 -1.035000          local   \n",
       "4  1.730433 -1.259296  0.897154 -1.836153  western-local   \n",
       "\n",
       "                        Restaurant  \n",
       "0       enjoy-eating-house-and-bar  \n",
       "1                           elemen  \n",
       "2       breko-cafe-holland-village  \n",
       "3                  thesaltedplumsg  \n",
       "4  four-seasons-durians-restaurant  \n",
       "\n",
       "[5 rows x 52 columns]"
      ]
     },
     "execution_count": 3,
     "metadata": {},
     "output_type": "execute_result"
    }
   ],
   "source": [
    "data.head()"
   ]
  },
  {
   "cell_type": "code",
   "execution_count": 4,
   "metadata": {},
   "outputs": [],
   "source": [
    "# convert label to numbers\n",
    "# 1 = western\n",
    "# 2 = local food\n",
    "# 3 = western-local/western-japanese/japanese-local/middle-eastern\n",
    "# 4 = dessert\n",
    "# 5 = japanese\n",
    "\n",
    "data['Cuisine'] = data['Label']\n",
    "\n",
    "data['Label'].replace(to_replace=['western','local','western-local','dessert',\n",
    "                                    'japanese','western-japanese', 'japanese-local','thai','middle-eastern'],\n",
    "                      value=[1,2,3,4,5,3,3,2,2], inplace=True)"
   ]
  },
  {
   "cell_type": "code",
   "execution_count": 5,
   "metadata": {},
   "outputs": [],
   "source": [
    "# Select non-fusion food\n",
    "data = data[data['Label'] != 3]\n",
    "\n",
    "X = data.drop('Label', axis=1) # For training / testing\n",
    "Y = data['Label'] # Label for training / testing\n",
    "\n",
    "X_pca = X.drop(['Restaurant','Cuisine'], axis=1) # For PCA visual\n",
    "Y_pca = Y.replace(to_replace=[1,2,3,4,5], value=['red','blue','black','green','orange']) # Label for PCA vis"
   ]
  },
  {
   "cell_type": "code",
   "execution_count": 6,
   "metadata": {},
   "outputs": [
    {
     "data": {
      "text/plain": [
       "<matplotlib.collections.PathCollection at 0x23e4ee3a5c8>"
      ]
     },
     "execution_count": 6,
     "metadata": {},
     "output_type": "execute_result"
    },
    {
     "data": {
      "image/png": "[encoded data removed]",
      "text/plain": [
       "<Figure size 432x288 with 1 Axes>"
      ]
     },
     "metadata": {
      "needs_background": "light"
     },
     "output_type": "display_data"
    }
   ],
   "source": [
    "pca = PCA(n_components=2)\n",
    "X_pca = pca.fit_transform(X_pca)\n",
    "plt.scatter(X_pca[:,0], X_pca[:,1], c=Y_pca, alpha=0.5)"
   ]
  },
  {
   "cell_type": "markdown",
   "metadata": {},
   "source": [
    "# Build the model"
   ]
  },
  {
   "cell_type": "code",
   "execution_count": 7,
   "metadata": {},
   "outputs": [],
   "source": [
    "X_train_label, X_test_label, y_train, y_test = train_test_split(X, Y, test_size=0.25, random_state=42)"
   ]
  },
  {
   "cell_type": "code",
   "execution_count": 8,
   "metadata": {},
   "outputs": [],
   "source": [
    "X_labels = X_test_label.iloc[:,-2:].copy()"
   ]
  },
  {
   "cell_type": "code",
   "execution_count": 9,
   "metadata": {},
   "outputs": [],
   "source": [
    "# Get data for the train/test sets\n",
    "X_train = X_train_label.drop([\"Restaurant\",\"Cuisine\"], axis=1)\n",
    "X_test = X_test_label.drop([\"Restaurant\",\"Cuisine\"], axis=1)\n",
    "\n",
    "# Get restaurant labels for the train/test sets\n",
    "X_train_label = X_train_label.iloc[:,-1]\n",
    "X_test_label = X_test_label.iloc[:,-1]"
   ]
  },
  {
   "cell_type": "code",
   "execution_count": 10,
   "metadata": {},
   "outputs": [
    {
     "name": "stdout",
     "output_type": "stream",
     "text": [
      "              precision    recall  f1-score   support\n",
      "\n",
      "     Western       0.81      0.83      0.82        53\n",
      "       Asian       0.83      0.87      0.85        46\n",
      "     Dessert       0.80      0.80      0.80        35\n",
      "    Japanese       0.89      0.67      0.76        12\n",
      "\n",
      "    accuracy                           0.82       146\n",
      "   macro avg       0.83      0.79      0.81       146\n",
      "weighted avg       0.82      0.82      0.82       146\n",
      "\n"
     ]
    }
   ],
   "source": [
    "gnb = GaussianNB()\n",
    "model = gnb.fit(X_train, y_train)\n",
    "y_pred = model.predict(X_test)\n",
    "\n",
    "target_names = ['Western','Asian','Dessert','Japanese']\n",
    "print(classification_report(y_test, y_pred, target_names=target_names))"
   ]
  },
  {
   "cell_type": "code",
   "execution_count": null,
   "metadata": {},
   "outputs": [],
   "source": []
  }
 ],
 "metadata": {
  "kernelspec": {
   "display_name": "Python 3",
   "language": "python",
   "name": "python3"
  },
  "language_info": {
   "codemirror_mode": {
    "name": "ipython",
    "version": 3
   },
   "file_extension": ".py",
   "mimetype": "text/x-python",
   "name": "python",
   "nbconvert_exporter": "python",
   "pygments_lexer": "ipython3",
   "version": "3.7.4"
  },
  "toc": {
   "base_numbering": 1,
   "nav_menu": {},
   "number_sections": true,
   "sideBar": true,
   "skip_h1_title": false,
   "title_cell": "Table of Contents",
   "title_sidebar": "Contents",
   "toc_cell": false,
   "toc_position": {},
   "toc_section_display": true,
   "toc_window_display": false
  },
  "varInspector": {
   "cols": {
    "lenName": 16,
    "lenType": 16,
    "lenVar": 40
   },
   "kernels_config": {
    "python": {
     "delete_cmd_postfix": "",
     "delete_cmd_prefix": "del ",
     "library": "var_list.py",
     "varRefreshCmd": "print(var_dic_list())"
    },
    "r": {
     "delete_cmd_postfix": ") ",
     "delete_cmd_prefix": "rm(",
     "library": "var_list.r",
     "varRefreshCmd": "cat(var_dic_list()) "
    }
   },
   "types_to_exclude": [
    "module",
    "function",
    "builtin_function_or_method",
    "instance",
    "_Feature"
   ],
   "window_display": false
  }
 },
 "nbformat": 4,
 "nbformat_minor": 2
}
