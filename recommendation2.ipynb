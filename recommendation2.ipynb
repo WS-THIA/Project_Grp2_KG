{
 "cells": [
  {
   "cell_type": "code",
   "execution_count": 1,
   "metadata": {},
   "outputs": [],
   "source": [
    "from pprint import pprint\n",
    "from py2neo import Graph"
   ]
  },
  {
   "cell_type": "code",
   "execution_count": 3,
   "metadata": {},
   "outputs": [],
   "source": [
    "graph = Graph(host=\"localhost://7474\", auth=(\"neo4j\", \"123456\"))"
   ]
  },
  {
   "cell_type": "code",
   "execution_count": 4,
   "metadata": {},
   "outputs": [],
   "source": [
    "query = \"\"\"MATCH (p:Reviewer)-[w:Wrote]->(r:Review)-[a:About]->(re:Restaurant)\n",
    "RETURN p.name AS reviewer, COUNT(w) AS num_of_reviews\n",
    "ORDER BY num_of_reviews DESC LIMIT 10\"\"\"\n"
   ]
  },
  {
   "cell_type": "code",
   "execution_count": 5,
   "metadata": {},
   "outputs": [
    {
     "data": {
      "text/html": [
       "<div>\n",
       "<style scoped>\n",
       "    .dataframe tbody tr th:only-of-type {\n",
       "        vertical-align: middle;\n",
       "    }\n",
       "\n",
       "    .dataframe tbody tr th {\n",
       "        vertical-align: top;\n",
       "    }\n",
       "\n",
       "    .dataframe thead th {\n",
       "        text-align: right;\n",
       "    }\n",
       "</style>\n",
       "<table border=\"1\" class=\"dataframe\">\n",
       "  <thead>\n",
       "    <tr style=\"text-align: right;\">\n",
       "      <th></th>\n",
       "      <th>num_of_reviews</th>\n",
       "      <th>reviewer</th>\n",
       "    </tr>\n",
       "  </thead>\n",
       "  <tbody>\n",
       "    <tr>\n",
       "      <th>0</th>\n",
       "      <td>825</td>\n",
       "      <td>U0008</td>\n",
       "    </tr>\n",
       "    <tr>\n",
       "      <th>1</th>\n",
       "      <td>775</td>\n",
       "      <td>U0492</td>\n",
       "    </tr>\n",
       "    <tr>\n",
       "      <th>2</th>\n",
       "      <td>770</td>\n",
       "      <td>U0044</td>\n",
       "    </tr>\n",
       "    <tr>\n",
       "      <th>3</th>\n",
       "      <td>484</td>\n",
       "      <td>U0273</td>\n",
       "    </tr>\n",
       "    <tr>\n",
       "      <th>4</th>\n",
       "      <td>472</td>\n",
       "      <td>U0014</td>\n",
       "    </tr>\n",
       "    <tr>\n",
       "      <th>5</th>\n",
       "      <td>438</td>\n",
       "      <td>U0088</td>\n",
       "    </tr>\n",
       "    <tr>\n",
       "      <th>6</th>\n",
       "      <td>400</td>\n",
       "      <td>U0699</td>\n",
       "    </tr>\n",
       "    <tr>\n",
       "      <th>7</th>\n",
       "      <td>398</td>\n",
       "      <td>U1418</td>\n",
       "    </tr>\n",
       "    <tr>\n",
       "      <th>8</th>\n",
       "      <td>396</td>\n",
       "      <td>U0028</td>\n",
       "    </tr>\n",
       "    <tr>\n",
       "      <th>9</th>\n",
       "      <td>383</td>\n",
       "      <td>U0241</td>\n",
       "    </tr>\n",
       "  </tbody>\n",
       "</table>\n",
       "</div>"
      ],
      "text/plain": [
       "   num_of_reviews reviewer\n",
       "0             825    U0008\n",
       "1             775    U0492\n",
       "2             770    U0044\n",
       "3             484    U0273\n",
       "4             472    U0014\n",
       "5             438    U0088\n",
       "6             400    U0699\n",
       "7             398    U1418\n",
       "8             396    U0028\n",
       "9             383    U0241"
      ]
     },
     "execution_count": 5,
     "metadata": {},
     "output_type": "execute_result"
    }
   ],
   "source": [
    "#Find out reviewer order by number of wrote reviews\n",
    "graph.run(query).to_data_frame()"
   ]
  },
  {
   "cell_type": "markdown",
   "metadata": {},
   "source": [
    "# Build up recommendation engine"
   ]
  },
  {
   "cell_type": "markdown",
   "metadata": {},
   "source": [
    "Our recommendation engine will recommend restaurant to target user based on the preference of the usesr that will have a similar taste on restaurant. For each user, we will identify the most similar users to them and preferences of these simialr users are then used to generate recommendations for the target user.\n",
    "\n",
    "This algorithm is known as Collaborative Filtering.\n",
    "\n",
    "Collaborative filtering (CF) is a technique commonly used to build personalized recommendation systems. Some popular websites that use CF technology include Amazon, Netflix, and IMDB. In CF, predictions about a user's interests are made by compiling preferences from similar users.\n"
   ]
  },
  {
   "cell_type": "markdown",
   "metadata": {},
   "source": [
    "The similarity metric we will use here is Jaccard Similarity Coefficient or Jaccard Index also known as Intersection over Union(IoU).\n",
    "\n",
    "<img src=\"reco_data\\IoU.jpg\">\n",
    "\n",
    "Jaccard Index between two sets A and B is the ratio of the number of elements in the intersection of A and B over the number of elements in the union of A and B.\n",
    "\n",
    "Reference: https://deepai.org/machine-learning-glossary-and-terms/jaccard-index"
   ]
  },
  {
   "cell_type": "markdown",
   "metadata": {},
   "source": [
    "## Get the most similar users to our target user, the Jaccard Index, number of Restaurants in common (Intersection), number of Restaurants in total (Union)"
   ]
  },
  {
   "cell_type": "code",
   "execution_count": 6,
   "metadata": {},
   "outputs": [],
   "source": [
    "query = \"\"\"\n",
    "        // get target user and their neighbors pairs and count \n",
    "        // of distinct restaurant that they have reviewed in common\n",
    "        MATCH (p1:Reviewer)-[:Wrote]->(r1:Review)-[:About]->(re:Restaurant)<-[:About]-(r2:Review)<-[:Wrote]-(p2:Reviewer)\n",
    "        WHERE p1 <> p2 AND p1.name = {p_name}\n",
    "        WITH p1, p2, COUNT(DISTINCT re) as intersection\n",
    "        \n",
    "        // get count of all the distinct restaurants that they have reviewed in total (Union)\n",
    "        MATCH (p:Reviewer)-[:Wrote]->(r:Review)-[:About]->(re:Restaurant)\n",
    "        WHERE p in [p1, p2]\n",
    "        WITH p1, p2, intersection, COUNT(DISTINCT re) as union\n",
    "        \n",
    "        // compute Jaccard index\n",
    "        WITH p1, p2, intersection, union, (intersection * 1.0 / union) as jaccard_index\n",
    "        \n",
    "        // get top k nearest neighbors based on Jaccard index\n",
    "        ORDER BY jaccard_index DESC, p2.name\n",
    "        WITH p1, COLLECT([p2.name, jaccard_index, intersection, union])[0..{k}] as neighbors\n",
    "        \n",
    "        WHERE SIZE(neighbors) = {k}   // return users with enough neighbors\n",
    "        RETURN p1.name as reviewer, neighbors\n",
    "\n",
    "        \"\"\""
   ]
  },
  {
   "cell_type": "code",
   "execution_count": 7,
   "metadata": {},
   "outputs": [
    {
     "name": "stderr",
     "output_type": "stream",
     "text": [
      "Failed to write data to connection ('localhost', 7687) (Address(host='127.0.0.1', port=7687)); (\"10054; '远程主机强迫关闭了一个现有的连接。'; None; 10054; None\")\n"
     ]
    },
    {
     "name": "stdout",
     "output_type": "stream",
     "text": [
      "# User Justin Teo's 10 nearest neighbors: user_name, jaccard_index, intersection, union\n",
      "{'U0273': [['U0082', 0.23509933774834438, 71, 302],\n",
      "           ['U0492', 0.2, 57, 285],\n",
      "           ['U0241', 0.18345323741007194, 51, 278],\n",
      "           ['U0008', 0.17077464788732394, 97, 568],\n",
      "           ['U0012', 0.16906474820143885, 47, 278],\n",
      "           ['U0088', 0.16412213740458015, 43, 262],\n",
      "           ['U0057', 0.16333333333333333, 49, 300],\n",
      "           ['U0003', 0.16304347826086957, 45, 276],\n",
      "           ['U0028', 0.15827338129496402, 44, 278],\n",
      "           ['U0034', 0.1554054054054054, 46, 296]]}\n"
     ]
    }
   ],
   "source": [
    "neighbors = {}\n",
    "for i in graph.run(query, p_name = \"U0273\", k = 10):\n",
    "    neighbors[i[0]] = i[1]\n",
    "\n",
    "print(\"# User Justin Teo's 10 nearest neighbors: user_name, jaccard_index, intersection, union\")\n",
    "pprint(neighbors)\n"
   ]
  },
  {
   "cell_type": "markdown",
   "metadata": {},
   "source": [
    "## Find out the top 5 restaurants ranked by number of reviewed times from the nearest neighbors's reviewed restaurants "
   ]
  },
  {
   "cell_type": "code",
   "execution_count": 8,
   "metadata": {},
   "outputs": [
    {
     "name": "stdout",
     "output_type": "stream",
     "text": [
      "User U0273's recommendations: Restaurant, number of reviewed by neighbors\n",
      "{'U0273': [['Birds of a Feather', 10],\n",
      "           ['Alter Ego', 9],\n",
      "           ['The Coconut Club', 9],\n",
      "           ['Sunday Folks', 9],\n",
      "           ['Park Bench Deli', 9]]}\n"
     ]
    }
   ],
   "source": [
    "# get the list of the nearest neighbors names\n",
    "nearest_neighbors = [neighbors[\"U0273\"][i][0] for i in range(len(neighbors[\"U0273\"]))]\n",
    "\n",
    "query = \"\"\"\n",
    "        // get top n recommendations for user 'Justin Teo' from his nearest neighbors\n",
    "        MATCH (p1:Reviewer),\n",
    "              (neighbor:Reviewer)-[:Wrote]->(r:Review)-[:About]->(re:Restaurant)    \n",
    "        WHERE p1.name = {p_name}\n",
    "          AND neighbor.name in {nearest_neighbors}\n",
    "          AND not (p1)-[:Wrote]->(r:Review)-[:About]->(re:Restaurant)         // filter for movies that our user hasn't reviewed\n",
    "        \n",
    "        WITH p1, re, COUNT(DISTINCT neighbor) as countnns // times reviewed by nearest neighbors\n",
    "        ORDER BY p1.name, countnns DESC               \n",
    "        RETURN p1.name as user, COLLECT([re.name, countnns])[0..{n}] as recommendations  \n",
    "        \"\"\"\n",
    "\n",
    "recommendations = {}\n",
    "for i in graph.run(query, p_name = \"U0273\", nearest_neighbors = nearest_neighbors, n = 5):\n",
    "    recommendations[i[0]] = i[1]\n",
    "    \n",
    "print(\"User U0273's recommendations: Restaurant, number of reviewed by neighbors\")\n",
    "pprint(recommendations)\n"
   ]
  },
  {
   "cell_type": "markdown",
   "metadata": {},
   "source": [
    "## Unify the two parts above as a whole function"
   ]
  },
  {
   "cell_type": "code",
   "execution_count": 48,
   "metadata": {},
   "outputs": [
    {
     "name": "stdout",
     "output_type": "stream",
     "text": [
      "{'Jason Wong': ['/burnt-ends',\n",
      "                '/park-bench-deli',\n",
      "                '/the-coconut-club',\n",
      "                '/birds-of-a-feather-sg',\n",
      "                '/clinton-street-baking-company-singapore'],\n",
      " 'Julius Lim': ['/alter-ego',\n",
      "                '/park-bench-deli',\n",
      "                '/birds-of-a-feather-sg',\n",
      "                '/wildseed',\n",
      "                '/keng-eng-kee-seafood'],\n",
      " 'Justin Teo': ['/keng-eng-kee-seafood',\n",
      "                '/sunday-folks',\n",
      "                '/firebakesg',\n",
      "                '/birds-of-a-feather-sg',\n",
      "                '/clinton-street-baking-company-singapore'],\n",
      " 'Wei Zhi Chiang': ['/matchaya-2',\n",
      "                    '/park-bench-deli',\n",
      "                    '/the-refinery-1',\n",
      "                    '/birds-of-a-feather-sg',\n",
      "                    '/clinton-street-baking-company-singapore']}\n"
     ]
    }
   ],
   "source": [
    "import sys\n",
    "from pprint import pprint\n",
    "from py2neo import Graph\n",
    "\n",
    "# p_name = sys.argv[1:]\n",
    "p_name = ['Justin Teo','Julius Lim','Jason Wong','Wei Zhi Chiang']\n",
    "\n",
    "graph = Graph(host=\"localhost://7474\", auth=(\"neo4j\", \"1234\"))\n",
    "\n",
    "def r_recommender(graph, cid, num_nearest_neighbors, num_recommendations):\n",
    "\n",
    "    query = \"\"\"\n",
    "           MATCH (p1:Reviewer)-[:Wrote]->(r1:Review)-[:About]->(re:Restaurant)<-[:About]-(r2:Review)<-[:Wrote]-(p2:Reviewer)\n",
    "           WHERE p1 <> p2 AND p1.name = {p_name}\n",
    "           WITH p1, p2, COUNT(DISTINCT re) as intersection\n",
    "           \n",
    "           MATCH (p:Reviewer)-[:Wrote]->(r:Review)-[:About]->(re:Restaurant)\n",
    "           WHERE p in [p1, p2]\n",
    "           WITH p1, p2, intersection, COUNT(DISTINCT re) as union\n",
    "\n",
    "           WITH p1, p2, intersection, union, \n",
    "              (intersection * 1.0 / union) as jaccard_index\n",
    "\n",
    "           ORDER BY jaccard_index DESC, p2.name\n",
    "           WITH p1, COLLECT(p2)[0..{k}] as neighbors\n",
    "           WHERE SIZE(neighbors) = {k}                                              \n",
    "           UNWIND neighbors as neighbor\n",
    "           WITH p1, neighbor\n",
    "\n",
    "           MATCH (neighbor)-[:Wrote]->(r:Review)-[:About]->(re:Restaurant)         \n",
    "           WHERE not (p1)-[:Wrote]->(r:Review)-[:About]->(re:Restaurant)                        \n",
    "           WITH p1, re, COUNT(DISTINCT neighbor) as countnns\n",
    "           ORDER BY p1.name, countnns DESC                            \n",
    "           RETURN p1.name as user, \n",
    "              COLLECT(re.name)[0..{n}] as recommendations  \n",
    "           \"\"\"\n",
    "\n",
    "    recommendations = {}\n",
    "    for p in p_name:\n",
    "        for i in graph.run(query, p_name = p, k = num_nearest_neighbors, n = num_recommendations):\n",
    "            recommendations[i[0]] = i[1]\n",
    "    return recommendations\n",
    "\n",
    "pprint(r_recommender(graph, p_name, 10, 5))"
   ]
  },
  {
   "cell_type": "markdown",
   "metadata": {},
   "source": [
    "# Generate graph to visualize results"
   ]
  },
  {
   "cell_type": "code",
   "execution_count": null,
   "metadata": {},
   "outputs": [],
   "source": [
    "#Query to generate target user, neighbors and restaurant relation graph\n",
    "\"\"\"\n",
    "MATCH (p1:Reviewer)-[:VISITED]->(re:Restaurant)<-[:VISITED]-(p2:Reviewer)\n",
    "WHERE p1 <> p2 AND p1.name = \"U0273\"\n",
    "WITH p1, p2, COUNT(DISTINCT re) as intersection\n",
    "\n",
    "MATCH (p:Reviewer)-[:VISITED]->(re:Restaurant)\n",
    "WHERE p in [p1, p2]\n",
    "WITH p1, p2, intersection, COUNT(DISTINCT re) as union\n",
    "\n",
    "WITH p1, p2, intersection, union, (intersection * 1.0 / union) as jaccard_index\n",
    "\n",
    "ORDER BY jaccard_index DESC, p2.name\n",
    "WITH p1, COLLECT(p2)[0..5] as neighbors\n",
    "WHERE SIZE(neighbors) = 5\n",
    "UNWIND neighbors as neighbor\n",
    "WITH p1, neighbor\n",
    "\n",
    "MATCH (neighbor)-[:VISITED]->(re:Restaurant)<-[:VISITED]-(p1)\n",
    "RETURN neighbor, p1,re\n",
    "\"\"\""
   ]
  },
  {
   "cell_type": "code",
   "execution_count": null,
   "metadata": {},
   "outputs": [],
   "source": [
    "#Query to generate neighbors and restaurants target user hasn't been yet\n",
    "\"\"\"\n",
    "MATCH (p1:Reviewer)-[:VISITED]->(re:Restaurant)<-[:VISITED]-(p2:Reviewer)\n",
    "WHERE p1 <> p2 AND p1.name = \"U0273\"\n",
    "WITH p1, p2, COUNT(DISTINCT re) as intersection\n",
    "\n",
    "MATCH (p:Reviewer)-[:VISITED]->(re:Restaurant)\n",
    "WHERE p in [p1, p2]\n",
    "WITH p1, p2, intersection, COUNT(DISTINCT re) as union\n",
    "\n",
    "WITH p1, p2, intersection, union, (intersection * 1.0 / union) as jaccard_index\n",
    "\n",
    "ORDER BY jaccard_index DESC, p2.name\n",
    "WITH p1, COLLECT(p2)[0..5] as neighbors\n",
    "WHERE SIZE(neighbors) = 5\n",
    "UNWIND neighbors as neighbor\n",
    "WITH p1, neighbor\n",
    "\n",
    "MATCH (neighbor)-[:VISITED]->(re:Restaurant)\n",
    "WHERE not (p1)-[:VISITED]->(re:Restaurant)\n",
    "RETURN neighbor, re\n",
    "\"\"\"\n"
   ]
  }
 ],
 "metadata": {
  "kernelspec": {
   "display_name": "Python 3",
   "language": "python",
   "name": "python3"
  },
  "language_info": {
   "codemirror_mode": {
    "name": "ipython",
    "version": 3
   },
   "file_extension": ".py",
   "mimetype": "text/x-python",
   "name": "python",
   "nbconvert_exporter": "python",
   "pygments_lexer": "ipython3",
   "version": "3.6.6"
  }
 },
 "nbformat": 4,
 "nbformat_minor": 2
}
