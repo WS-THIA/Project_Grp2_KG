{
 "cells": [
  {
   "cell_type": "code",
   "execution_count": 22,
   "metadata": {},
   "outputs": [],
   "source": [
    "from py2neo import Graph\n",
    "from pandas import DataFrame"
   ]
  },
  {
   "cell_type": "code",
   "execution_count": 23,
   "metadata": {},
   "outputs": [],
   "source": [
    "graph = Graph(host=\"localhost://7474\", auth=(\"neo4j\", \"290287\"))"
   ]
  },
  {
   "cell_type": "code",
   "execution_count": 48,
   "metadata": {},
   "outputs": [
    {
     "data": {
      "text/plain": [
       "[{'a.name': 'Keanu Reeves', 'a.born': 1964},\n",
       " {'a.name': 'Carrie-Anne Moss', 'a.born': 1967},\n",
       " {'a.name': 'Laurence Fishburne', 'a.born': 1961},\n",
       " {'a.name': 'Hugo Weaving', 'a.born': 1960}]"
      ]
     },
     "execution_count": 48,
     "metadata": {},
     "output_type": "execute_result"
    }
   ],
   "source": [
    "a=graph.run(\"MATCH (a:Person) RETURN a.name, a.born LIMIT 4\").data()\n",
    "a"
   ]
  },
  {
   "cell_type": "markdown",
   "metadata": {},
   "source": [
    "# Our graph backend"
   ]
  },
  {
   "cell_type": "code",
   "execution_count": 112,
   "metadata": {},
   "outputs": [],
   "source": [
    "def search_restaurant_by_food(text):\n",
    "    result=[]\n",
    "    key_words = text\n",
    "    query = \"MATCH (n:`Restaurant`)-[:`Serves`]->(f:`Food` {name:'%s'})  RETURN n.name, n.sentiment_score ORDER BY n.sentiment_score DESC LIMIT 10\" % key_words\n",
    "    result = graph.run(query).data()\n",
    "    if result != []:\n",
    "        return result\n",
    "    else:\n",
    "        key_words = key_words.split()\n",
    "        for i in range(len(key_words)):\n",
    "            query = \"MATCH (n:`Restaurant`)-[:`Serves`]->(f:`Food` {name:'%s'})  RETURN n.name, n.sentiment_score ORDER BY n.sentiment_score DESC LIMIT 10\" % key_words[i]\n",
    "            temp = graph.run(query).data()\n",
    "            result.append(temp)\n",
    "        if result == [[]]:\n",
    "            return ['No records found']\n",
    "        else:\n",
    "            return result\n",
    "        \n",
    "\n",
    "def search_restaurant_by_cusine(text):\n",
    "    result=[]\n",
    "    key_words = text\n",
    "    query = \"MATCH (n:`Restaurant` {cusine:'%s'})  RETURN n.name, n.sentiment_score ORDER BY n.sentiment_score DESC LIMIT 10\" % key_words\n",
    "    result = graph.run(query).data()\n",
    "    if result == []:\n",
    "        return ['No records found']\n",
    "    else: \n",
    "        return result\n",
    "    \n",
    "\n",
    "def find_reviews_by_restaurant_name(name):\n",
    "    result = []\n",
    "    key_words = name\n",
    "    query = \"MATCH (n:`Restaurant` {name:'%s'})<-[:`ABOUT`]-(r:`Review`)  RETURN n.name, r.content ORDER BY r.like DESC LIMIT 3\" % key_words\n",
    "    result = graph.run(query).data()\n",
    "    if result == []:\n",
    "        return ['No reviews']\n",
    "    else: \n",
    "        return result"
   ]
  },
  {
   "cell_type": "markdown",
   "metadata": {},
   "source": [
    "# Testing on Movie graph"
   ]
  },
  {
   "cell_type": "code",
   "execution_count": 124,
   "metadata": {},
   "outputs": [],
   "source": [
    "\n",
    "def search_movie_by_actor(text):\n",
    "    result=[]\n",
    "    key_words = text\n",
    "    query = \"MATCH (p:`Person` {name:'%s'})-[:`ACTED_IN`]->(m:`Movie`)  RETURN m.title, m.released ORDER BY m.released DESC LIMIT 10\" % key_words\n",
    "    result = graph.run(query).data()\n",
    "    if result != []:\n",
    "        print(1)\n",
    "        return result\n",
    "    else:\n",
    "        key_words = key_words.split()\n",
    "        for i in range(len(key_words)):\n",
    "            query = \"MATCH (p:`Person` {name:'%s'})-[:`ACTED_IN`]->(m:`Movie`)  RETURN m.title, m.released ORDER BY m.released DESC LIMIT 10\" % key_words[i]\n",
    "            temp = graph.run(query).data()\n",
    "            result.append(temp)\n",
    "        if result == [[]]:\n",
    "            print(2)\n",
    "            return ['No records found']\n",
    "        else:\n",
    "            print(3)\n",
    "            return result\n",
    "      \n",
    "    \n",
    "def find_reviews_by_movie_name(name):\n",
    "    result = []\n",
    "    key_words = name\n",
    "    query = 'MATCH (m:`Movie` {title:\"%s\"})<-[r:`REVIEWED`]-()  RETURN r.summary LIMIT 3' % key_words\n",
    "    result = graph.run(query).data()\n",
    "    if result == []:\n",
    "        return ['No reviews']\n",
    "    else: \n",
    "        return result\n",
    "\n",
    "    \n",
    "def reviews_result(name):\n",
    "    reviews = []\n",
    "    for item in name:\n",
    "        temp = DataFrame(find_reviews_by_movie_name(item))\n",
    "        temp = temp['r.summary'].tolist()\n",
    "        dic = {item:temp}\n",
    "        reviews.append(dic)\n",
    "    return reviews"
   ]
  },
  {
   "cell_type": "code",
   "execution_count": 125,
   "metadata": {},
   "outputs": [
    {
     "name": "stdout",
     "output_type": "stream",
     "text": [
      "1\n"
     ]
    }
   ],
   "source": [
    "b=search_movie_by_actor('Keanu Reeves')"
   ]
  },
  {
   "cell_type": "code",
   "execution_count": 126,
   "metadata": {},
   "outputs": [
    {
     "data": {
      "text/plain": [
       "[{'m.title': 'The Matrix Revolutions', 'm.released': 2003},\n",
       " {'m.title': 'The Matrix Reloaded', 'm.released': 2003},\n",
       " {'m.title': \"Something's Gotta Give\", 'm.released': 2003},\n",
       " {'m.title': 'The Replacements', 'm.released': 2000},\n",
       " {'m.title': 'The Matrix', 'm.released': 1999},\n",
       " {'m.title': \"The Devil's Advocate\", 'm.released': 1997},\n",
       " {'m.title': 'Johnny Mnemonic', 'm.released': 1995}]"
      ]
     },
     "execution_count": 126,
     "metadata": {},
     "output_type": "execute_result"
    }
   ],
   "source": [
    "b"
   ]
  },
  {
   "cell_type": "code",
   "execution_count": 136,
   "metadata": {},
   "outputs": [],
   "source": [
    "#find reviews\n",
    "name =['The Replacements','The Birdcage','Unforgiven']\n",
    "reviews = []\n",
    "for item in name:\n",
    "    temp = DataFrame(find_reviews_by_movie_name(item))\n",
    "    temp = temp['r.summary'].tolist()\n",
    "    dic = {item:temp}\n",
    "    reviews.append(dic)"
   ]
  },
  {
   "cell_type": "code",
   "execution_count": 137,
   "metadata": {},
   "outputs": [
    {
     "data": {
      "text/plain": [
       "[{'The Replacements': ['The coolest football movie ever',\n",
       "   'Pretty funny at times',\n",
       "   'Silly, but fun']},\n",
       " {'The Birdcage': [\"Slapstick redeemed only by the Robin Williams and Gene Hackman's stellar performances\"]},\n",
       " {'Unforgiven': ['Dark, but compelling']}]"
      ]
     },
     "execution_count": 137,
     "metadata": {},
     "output_type": "execute_result"
    }
   ],
   "source": [
    "reviews"
   ]
  },
  {
   "cell_type": "code",
   "execution_count": 130,
   "metadata": {},
   "outputs": [],
   "source": []
  },
  {
   "cell_type": "code",
   "execution_count": 135,
   "metadata": {},
   "outputs": [
    {
     "data": {
      "text/plain": [
       "['The coolest football movie ever', 'Pretty funny at times', 'Silly, but fun']"
      ]
     },
     "execution_count": 135,
     "metadata": {},
     "output_type": "execute_result"
    }
   ],
   "source": []
  },
  {
   "cell_type": "code",
   "execution_count": null,
   "metadata": {},
   "outputs": [],
   "source": []
  }
 ],
 "metadata": {
  "kernelspec": {
   "display_name": "Python 3",
   "language": "python",
   "name": "python3"
  },
  "language_info": {
   "codemirror_mode": {
    "name": "ipython",
    "version": 3
   },
   "file_extension": ".py",
   "mimetype": "text/x-python",
   "name": "python",
   "nbconvert_exporter": "python",
   "pygments_lexer": "ipython3",
   "version": "3.6.6"
  }
 },
 "nbformat": 4,
 "nbformat_minor": 2
}
